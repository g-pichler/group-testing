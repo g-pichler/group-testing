{
 "cells": [
  {
   "cell_type": "code",
   "execution_count": null,
   "metadata": {},
   "outputs": [],
   "source": [
    "import numpy as np\n",
    "from ipywidgets import interact, interactive, fixed, interact_manual\n",
    "import ipywidgets as widgets\n",
    "from util import PlotHelper\n",
    "\n",
    "%matplotlib notebook\n",
    "\n",
    "c = [50, 100, 50]\n",
    "b = [1.0, 5.0, 1.0]\n",
    "a = np.array(c)/np.array(b)\n",
    "N = [100, 5000, 94900]\n",
    "\n",
    "# Select the starting probabilities\n",
    "#p = [0.15, 0.01, 0.01]\n",
    "p = [0.03, 0.005, 0.005]\n",
    "\n",
    "# starting parameters\n",
    "params0 = {\n",
    "    'a': np.array(a),\n",
    "    'p': np.array(p),\n",
    "    'b': np.array(b),\n",
    "    'N': np.array(N),\n",
    "}\n",
    "\n",
    "# min max step formatting\n",
    "minmaxstep = {\n",
    "    'a': [1.0, 100.0, 1.0, '.0f'],\n",
    "    'p': [0.005, 0.16, 0.005, '.3f'],\n",
    "    'b': [0.5, 10.0, 0.5, '.1f'],\n",
    "    'N': [100, 100000, 100, '.0f'],\n",
    "}\n"
   ]
  },
  {
   "cell_type": "markdown",
   "metadata": {},
   "source": [
    "# Interactive Plot\n",
    "\n",
    "The next cell presents an interactive plot, depicting bounds, individual testing, binary splitting and the 2SG(...) strategy.\n",
    "\n",
    "The points on the 2SG(...) curve are labeled by the respective strategy. E.g. `(0,21), (42,7), (0,0)` indicates that of the three subpopulations, the first is tested using 1SG(21), the second with 2SG(42,7) and the third is not tested at all.\n",
    "\n",
    "The 1SG strategy can be uncommented in `util.py`."
   ]
  },
  {
   "cell_type": "code",
   "execution_count": null,
   "metadata": {
    "scrolled": false
   },
   "outputs": [],
   "source": [
    "ph = PlotHelper(params0)\n",
    "\n",
    "n_subpop = len(params0['a'])\n",
    "wgts = {}\n",
    "for i in range(n_subpop):\n",
    "    for k in params0.keys():\n",
    "        slider_type = widgets.IntSlider if k == 'N' else widgets.FloatSlider\n",
    "        wgts[f'{k}_{i!s}'] = slider_type(value=params0[k][i],\n",
    "                                         min=minmaxstep[k][0],\n",
    "                                         max=minmaxstep[k][1],\n",
    "                                         step=minmaxstep[k][2],\n",
    "                                         readout_format=minmaxstep[k][3]\n",
    "                                        )\n",
    "    \n",
    "interact(ph.call, **wgts)\n"
   ]
  },
  {
   "cell_type": "code",
   "execution_count": null,
   "metadata": {},
   "outputs": [],
   "source": []
  }
 ],
 "metadata": {
  "kernelspec": {
   "display_name": "pooltest",
   "language": "python",
   "name": "pooltest"
  },
  "language_info": {
   "codemirror_mode": {
    "name": "ipython",
    "version": 3
   },
   "file_extension": ".py",
   "mimetype": "text/x-python",
   "name": "python",
   "nbconvert_exporter": "python",
   "pygments_lexer": "ipython3",
   "version": "3.9.0"
  }
 },
 "nbformat": 4,
 "nbformat_minor": 4
}
